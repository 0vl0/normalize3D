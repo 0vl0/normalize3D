{
 "cells": [
  {
   "cell_type": "markdown",
   "metadata": {},
   "source": [
    "## Rotating a batch of 3D paralleloids and then normalizing the orientation with the pytorch version"
   ]
  },
  {
   "cell_type": "code",
   "execution_count": 1,
   "metadata": {},
   "outputs": [],
   "source": [
    "import torch\n",
    "from plot_field import plot_scalar_field_torch, plot_inertia_torch\n",
    "from rotation import get_rotation_tensor, rotate_torch, get_grids_torch\n",
    "from inertia import barycenter_field_torch, get_rotation_params_torch, normalize_orientation_torch\n",
    "%matplotlib widget"
   ]
  },
  {
   "cell_type": "markdown",
   "metadata": {},
   "source": [
    "Two paralleloids represented by a scalar field are generated. <br>\n",
    "Consider changing the gpu number according to your configuration."
   ]
  },
  {
   "cell_type": "code",
   "execution_count": 2,
   "metadata": {},
   "outputs": [
    {
     "ename": "RuntimeError",
     "evalue": "CUDA error: out of memory\nCUDA kernel errors might be asynchronously reported at some other API call,so the stacktrace below might be incorrect.\nFor debugging consider passing CUDA_LAUNCH_BLOCKING=1.",
     "output_type": "error",
     "traceback": [
      "\u001b[0;31m---------------------------------------------------------------------------\u001b[0m",
      "\u001b[0;31mRuntimeError\u001b[0m                              Traceback (most recent call last)",
      "\u001b[1;32m/home/vludvig/Documents/GitHub/normalize3D/example_pytorch.ipynb Cell 4\u001b[0m in \u001b[0;36m<cell line: 1>\u001b[0;34m()\u001b[0m\n\u001b[0;32m----> <a href='vscode-notebook-cell:/home/vludvig/Documents/GitHub/normalize3D/example_pytorch.ipynb#W3sZmlsZQ%3D%3D?line=0'>1</a>\u001b[0m rect1 \u001b[39m=\u001b[39m torch\u001b[39m.\u001b[39;49mtensor([(i,j,k) \u001b[39mfor\u001b[39;49;00m i \u001b[39min\u001b[39;49;00m \u001b[39mrange\u001b[39;49m(\u001b[39m10\u001b[39;49m,\u001b[39m45\u001b[39;49m) \u001b[39mfor\u001b[39;49;00m j \u001b[39min\u001b[39;49;00m \u001b[39mrange\u001b[39;49m(\u001b[39m10\u001b[39;49m,\u001b[39m25\u001b[39;49m) \u001b[39mfor\u001b[39;49;00m k \u001b[39min\u001b[39;49;00m \u001b[39mrange\u001b[39;49m(\u001b[39m10\u001b[39;49m,\u001b[39m15\u001b[39;49m)])\u001b[39m.\u001b[39;49mlong()\u001b[39m.\u001b[39;49mto(\u001b[39m\"\u001b[39;49m\u001b[39mcuda:0\u001b[39;49m\u001b[39m\"\u001b[39;49m)\n\u001b[1;32m      <a href='vscode-notebook-cell:/home/vludvig/Documents/GitHub/normalize3D/example_pytorch.ipynb#W3sZmlsZQ%3D%3D?line=1'>2</a>\u001b[0m rect2 \u001b[39m=\u001b[39m torch\u001b[39m.\u001b[39mtensor([(i,j,k) \u001b[39mfor\u001b[39;00m i \u001b[39min\u001b[39;00m \u001b[39mrange\u001b[39m(\u001b[39m40\u001b[39m,\u001b[39m45\u001b[39m) \u001b[39mfor\u001b[39;00m j \u001b[39min\u001b[39;00m \u001b[39mrange\u001b[39m(\u001b[39m5\u001b[39m,\u001b[39m25\u001b[39m) \u001b[39mfor\u001b[39;00m k \u001b[39min\u001b[39;00m \u001b[39mrange\u001b[39m(\u001b[39m5\u001b[39m,\u001b[39m15\u001b[39m)])\u001b[39m.\u001b[39mlong()\u001b[39m.\u001b[39mto(\u001b[39m\"\u001b[39m\u001b[39mcuda:0\u001b[39m\u001b[39m\"\u001b[39m)\n\u001b[1;32m      <a href='vscode-notebook-cell:/home/vludvig/Documents/GitHub/normalize3D/example_pytorch.ipynb#W3sZmlsZQ%3D%3D?line=2'>3</a>\u001b[0m tensor0 \u001b[39m=\u001b[39m torch\u001b[39m.\u001b[39mzeros((\u001b[39m2\u001b[39m,\u001b[39m1\u001b[39m,\u001b[39m50\u001b[39m,\u001b[39m50\u001b[39m,\u001b[39m50\u001b[39m))\n",
      "\u001b[0;31mRuntimeError\u001b[0m: CUDA error: out of memory\nCUDA kernel errors might be asynchronously reported at some other API call,so the stacktrace below might be incorrect.\nFor debugging consider passing CUDA_LAUNCH_BLOCKING=1."
     ]
    }
   ],
   "source": [
    "rect1 = torch.tensor([(i,j,k) for i in range(10,45) for j in range(10,25) for k in range(10,15)]).long().to(\"cuda:0\")\n",
    "rect2 = torch.tensor([(i,j,k) for i in range(40,45) for j in range(5,25) for k in range(5,15)]).long().to(\"cuda:0\")\n",
    "tensor0 = torch.zeros((2,1,50,50,50))\n",
    "for a in rect1:\n",
    "    tensor0[0][0][a[0], a[1], a[2]] = 1.\n",
    "for a in rect2:\n",
    "    tensor0[1][0][a[0], a[1], a[2]] = 1.\n",
    "grid_x, grid_y, grid_z = get_grids_torch(tensor0, \"cuda:0\")\n",
    "barycenter_tab = [barycenter_field_torch(tensor0[i][0].to(\"cuda:0\"), grid_x, grid_y, grid_z) for i in range(2)]\n",
    "print(\"barycenters =\", barycenter_tab)"
   ]
  },
  {
   "cell_type": "code",
   "execution_count": null,
   "metadata": {},
   "outputs": [],
   "source": [
    "plot_scalar_field_torch(tensor0)"
   ]
  },
  {
   "cell_type": "markdown",
   "metadata": {},
   "source": [
    "Plotting rotation vectors (axes)"
   ]
  },
  {
   "cell_type": "code",
   "execution_count": null,
   "metadata": {},
   "outputs": [],
   "source": [
    "plot_inertia_torch(tensor0.to(\"cuda:0\"))"
   ]
  },
  {
   "cell_type": "markdown",
   "metadata": {},
   "source": [
    "A random angle and a random normal vector are generated"
   ]
  },
  {
   "cell_type": "code",
   "execution_count": null,
   "metadata": {},
   "outputs": [],
   "source": [
    "angle = [torch.rand(1)*torch.pi for _ in range(2)]\n",
    "normal = [torch.rand(3) for _ in range(2)]\n",
    "for i in range(2):\n",
    "    normal[i] /= torch.norm(normal[i])\n",
    "print(\"angle = {}\\nnormal vector = {}\".format(angle, normal))"
   ]
  },
  {
   "cell_type": "markdown",
   "metadata": {},
   "source": [
    "Rotate the paralleloid around its barycenter, with angle and normal vector computed above.<br>\n",
    "Discretization process leads to small differences in the barycenter which in theory is rotaton-invariant."
   ]
  },
  {
   "cell_type": "code",
   "execution_count": null,
   "metadata": {},
   "outputs": [],
   "source": [
    "rotation_tensor_tab = [get_rotation_tensor(normal[i], angle[i]) for i in range(2)]\n",
    "rect1 = rect1.float()\n",
    "rect2 = rect2.float()\n",
    "batch_rotated = rotate_torch(rotation_tensor_tab, tensor0, barycenter_tab)\n",
    "plot_scalar_field_torch(batch_rotated)\n",
    "print(\"barycenter after rotation : {}\".format(barycenter_field_torch(batch_rotated, grid_x, grid_y, grid_z)))"
   ]
  },
  {
   "cell_type": "code",
   "execution_count": null,
   "metadata": {},
   "outputs": [],
   "source": [
    "plot_inertia_torch(batch_rotated)"
   ]
  },
  {
   "cell_type": "markdown",
   "metadata": {},
   "source": [
    "Align rotations axes with orthonormal basis"
   ]
  },
  {
   "cell_type": "code",
   "execution_count": null,
   "metadata": {},
   "outputs": [],
   "source": [
    "batch_aligned = normalize_orientation_torch(batch_rotated)\n",
    "plot_inertia_torch(batch_aligned)"
   ]
  }
 ],
 "metadata": {
  "kernelspec": {
   "display_name": "Python 3.8.10 64-bit",
   "language": "python",
   "name": "python3"
  },
  "language_info": {
   "codemirror_mode": {
    "name": "ipython",
    "version": 3
   },
   "file_extension": ".py",
   "mimetype": "text/x-python",
   "name": "python",
   "nbconvert_exporter": "python",
   "pygments_lexer": "ipython3",
   "version": "3.8.10"
  },
  "orig_nbformat": 4,
  "vscode": {
   "interpreter": {
    "hash": "916dbcbb3f70747c44a77c7bcd40155683ae19c65e1c03b4aa3499c5328201f1"
   }
  }
 },
 "nbformat": 4,
 "nbformat_minor": 2
}
